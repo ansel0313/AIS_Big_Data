{
 "cells": [
  {
   "cell_type": "code",
   "execution_count": 1,
   "metadata": {},
   "outputs": [],
   "source": [
    "from matplotlib import pyplot as plt\n",
    "import pandas as pd\n",
    "import numpy as np \n",
    "import csv"
   ]
  },
  {
   "cell_type": "code",
   "execution_count": 2,
   "metadata": {},
   "outputs": [
    {
     "name": "stdout",
     "output_type": "stream",
     "text": [
      "This dataset contains 4700810 records\n"
     ]
    }
   ],
   "source": [
    "df = pd.read_csv('ais-processed-2019-12.csv')\n",
    "df['time'] = pd.to_datetime(df['time']).dt.tz_localize(None)\n",
    "df.drop(columns=['Unnamed: 0'], inplace=True)\n",
    "print(\"This dataset contains {} records\".format(len(df)))"
   ]
  },
  {
   "cell_type": "code",
   "execution_count": 3,
   "metadata": {},
   "outputs": [
    {
     "data": {
      "text/html": [
       "<div>\n",
       "<style scoped>\n",
       "    .dataframe tbody tr th:only-of-type {\n",
       "        vertical-align: middle;\n",
       "    }\n",
       "\n",
       "    .dataframe tbody tr th {\n",
       "        vertical-align: top;\n",
       "    }\n",
       "\n",
       "    .dataframe thead th {\n",
       "        text-align: right;\n",
       "    }\n",
       "</style>\n",
       "<table border=\"1\" class=\"dataframe\">\n",
       "  <thead>\n",
       "    <tr style=\"text-align: right;\">\n",
       "      <th></th>\n",
       "      <th>type</th>\n",
       "      <th>mmsi</th>\n",
       "      <th>speed</th>\n",
       "      <th>accuracy</th>\n",
       "      <th>lon</th>\n",
       "      <th>lat</th>\n",
       "      <th>course</th>\n",
       "      <th>heading</th>\n",
       "      <th>time</th>\n",
       "      <th>status</th>\n",
       "      <th>...</th>\n",
       "      <th>to_bow</th>\n",
       "      <th>to_stern</th>\n",
       "      <th>to_port</th>\n",
       "      <th>to_starboard</th>\n",
       "      <th>month</th>\n",
       "      <th>day</th>\n",
       "      <th>hour</th>\n",
       "      <th>minute</th>\n",
       "      <th>draught</th>\n",
       "      <th>destination</th>\n",
       "    </tr>\n",
       "  </thead>\n",
       "  <tbody>\n",
       "    <tr>\n",
       "      <th>0</th>\n",
       "      <td>18</td>\n",
       "      <td>563015550</td>\n",
       "      <td>0.0</td>\n",
       "      <td>0.0</td>\n",
       "      <td>103.72786</td>\n",
       "      <td>1.30646</td>\n",
       "      <td>0.0</td>\n",
       "      <td>NaN</td>\n",
       "      <td>2019-12-01 00:00:07</td>\n",
       "      <td>NaN</td>\n",
       "      <td>...</td>\n",
       "      <td>NaN</td>\n",
       "      <td>NaN</td>\n",
       "      <td>NaN</td>\n",
       "      <td>NaN</td>\n",
       "      <td>NaN</td>\n",
       "      <td>NaN</td>\n",
       "      <td>NaN</td>\n",
       "      <td>NaN</td>\n",
       "      <td>NaN</td>\n",
       "      <td>NaN</td>\n",
       "    </tr>\n",
       "    <tr>\n",
       "      <th>1</th>\n",
       "      <td>1</td>\n",
       "      <td>563037440</td>\n",
       "      <td>0.2</td>\n",
       "      <td>0.0</td>\n",
       "      <td>103.76168</td>\n",
       "      <td>1.29001</td>\n",
       "      <td>94.3</td>\n",
       "      <td>NaN</td>\n",
       "      <td>2019-12-01 00:00:07</td>\n",
       "      <td>15.0</td>\n",
       "      <td>...</td>\n",
       "      <td>NaN</td>\n",
       "      <td>NaN</td>\n",
       "      <td>NaN</td>\n",
       "      <td>NaN</td>\n",
       "      <td>NaN</td>\n",
       "      <td>NaN</td>\n",
       "      <td>NaN</td>\n",
       "      <td>NaN</td>\n",
       "      <td>NaN</td>\n",
       "      <td>NaN</td>\n",
       "    </tr>\n",
       "    <tr>\n",
       "      <th>2</th>\n",
       "      <td>18</td>\n",
       "      <td>563040772</td>\n",
       "      <td>12.0</td>\n",
       "      <td>0.0</td>\n",
       "      <td>103.75896</td>\n",
       "      <td>1.29214</td>\n",
       "      <td>49.4</td>\n",
       "      <td>NaN</td>\n",
       "      <td>2019-12-01 00:00:08</td>\n",
       "      <td>NaN</td>\n",
       "      <td>...</td>\n",
       "      <td>NaN</td>\n",
       "      <td>NaN</td>\n",
       "      <td>NaN</td>\n",
       "      <td>NaN</td>\n",
       "      <td>NaN</td>\n",
       "      <td>NaN</td>\n",
       "      <td>NaN</td>\n",
       "      <td>NaN</td>\n",
       "      <td>NaN</td>\n",
       "      <td>NaN</td>\n",
       "    </tr>\n",
       "    <tr>\n",
       "      <th>3</th>\n",
       "      <td>1</td>\n",
       "      <td>566000010</td>\n",
       "      <td>0.2</td>\n",
       "      <td>1.0</td>\n",
       "      <td>103.76094</td>\n",
       "      <td>1.29310</td>\n",
       "      <td>NaN</td>\n",
       "      <td>120.0</td>\n",
       "      <td>2019-12-01 00:00:30</td>\n",
       "      <td>0.0</td>\n",
       "      <td>...</td>\n",
       "      <td>NaN</td>\n",
       "      <td>NaN</td>\n",
       "      <td>NaN</td>\n",
       "      <td>NaN</td>\n",
       "      <td>NaN</td>\n",
       "      <td>NaN</td>\n",
       "      <td>NaN</td>\n",
       "      <td>NaN</td>\n",
       "      <td>NaN</td>\n",
       "      <td>NaN</td>\n",
       "    </tr>\n",
       "    <tr>\n",
       "      <th>4</th>\n",
       "      <td>1</td>\n",
       "      <td>255805665</td>\n",
       "      <td>16.8</td>\n",
       "      <td>0.0</td>\n",
       "      <td>103.75723</td>\n",
       "      <td>1.13256</td>\n",
       "      <td>46.1</td>\n",
       "      <td>48.0</td>\n",
       "      <td>2019-12-01 00:00:30</td>\n",
       "      <td>0.0</td>\n",
       "      <td>...</td>\n",
       "      <td>NaN</td>\n",
       "      <td>NaN</td>\n",
       "      <td>NaN</td>\n",
       "      <td>NaN</td>\n",
       "      <td>NaN</td>\n",
       "      <td>NaN</td>\n",
       "      <td>NaN</td>\n",
       "      <td>NaN</td>\n",
       "      <td>NaN</td>\n",
       "      <td>NaN</td>\n",
       "    </tr>\n",
       "  </tbody>\n",
       "</table>\n",
       "<p>5 rows × 25 columns</p>\n",
       "</div>"
      ],
      "text/plain": [
       "   type       mmsi  speed  accuracy        lon      lat  course  heading  \\\n",
       "0    18  563015550    0.0       0.0  103.72786  1.30646     0.0      NaN   \n",
       "1     1  563037440    0.2       0.0  103.76168  1.29001    94.3      NaN   \n",
       "2    18  563040772   12.0       0.0  103.75896  1.29214    49.4      NaN   \n",
       "3     1  566000010    0.2       1.0  103.76094  1.29310     NaN    120.0   \n",
       "4     1  255805665   16.8       0.0  103.75723  1.13256    46.1     48.0   \n",
       "\n",
       "                 time  status  ...  to_bow  to_stern to_port to_starboard  \\\n",
       "0 2019-12-01 00:00:07     NaN  ...     NaN       NaN     NaN          NaN   \n",
       "1 2019-12-01 00:00:07    15.0  ...     NaN       NaN     NaN          NaN   \n",
       "2 2019-12-01 00:00:08     NaN  ...     NaN       NaN     NaN          NaN   \n",
       "3 2019-12-01 00:00:30     0.0  ...     NaN       NaN     NaN          NaN   \n",
       "4 2019-12-01 00:00:30     0.0  ...     NaN       NaN     NaN          NaN   \n",
       "\n",
       "   month  day  hour  minute  draught  destination  \n",
       "0    NaN  NaN   NaN     NaN      NaN          NaN  \n",
       "1    NaN  NaN   NaN     NaN      NaN          NaN  \n",
       "2    NaN  NaN   NaN     NaN      NaN          NaN  \n",
       "3    NaN  NaN   NaN     NaN      NaN          NaN  \n",
       "4    NaN  NaN   NaN     NaN      NaN          NaN  \n",
       "\n",
       "[5 rows x 25 columns]"
      ]
     },
     "execution_count": 3,
     "metadata": {},
     "output_type": "execute_result"
    }
   ],
   "source": [
    "df.head()"
   ]
  },
  {
   "cell_type": "code",
   "execution_count": 364,
   "metadata": {},
   "outputs": [
    {
     "data": {
      "text/plain": [
       "108.8150462962963"
      ]
     },
     "execution_count": 364,
     "metadata": {},
     "output_type": "execute_result"
    }
   ],
   "source": [
    "len(df)/(30*24*60)"
   ]
  },
  {
   "cell_type": "markdown",
   "metadata": {},
   "source": [
    "### Shiptype statistics"
   ]
  },
  {
   "cell_type": "code",
   "execution_count": 28,
   "metadata": {},
   "outputs": [
    {
     "name": "stdout",
     "output_type": "stream",
     "text": [
      "total: 4700810\n"
     ]
    }
   ],
   "source": [
    "df_with_stype = df.loc[df.shiptype.notnull()]\n",
    "df_no_stype = df.loc[df.shiptype.isnull()]\n",
    "print('total: {}'.format(len(df_with_stype)+len(df_no_stype)))"
   ]
  },
  {
   "cell_type": "code",
   "execution_count": 34,
   "metadata": {},
   "outputs": [
    {
     "data": {
      "text/plain": [
       "(213045, 4487765)"
      ]
     },
     "execution_count": 34,
     "metadata": {},
     "output_type": "execute_result"
    }
   ],
   "source": [
    "len(df_with_stype), len(df_no_stype)"
   ]
  },
  {
   "cell_type": "code",
   "execution_count": 30,
   "metadata": {},
   "outputs": [
    {
     "name": "stdout",
     "output_type": "stream",
     "text": [
      "There are 3924 common MMSI\n"
     ]
    }
   ],
   "source": [
    "mmsi_with_stype = df_with_stype['mmsi'].value_counts().index.to_list()\n",
    "mmsi_no_stype = df_no_stype['mmsi'].value_counts().index.to_list()\n",
    "\n",
    "intersections_stype = list(set(mmsi_with_stype) & set(mmsi_no_stype))\n",
    "print('There are {} common MMSI'.format(len(intersections_stype)))"
   ]
  },
  {
   "cell_type": "code",
   "execution_count": 33,
   "metadata": {},
   "outputs": [],
   "source": [
    "df_with_stype.set_index('mmsi', inplace=True)\n",
    "df_no_stype.set_index('mmsi', inplace=True)"
   ]
  },
  {
   "cell_type": "code",
   "execution_count": 43,
   "metadata": {},
   "outputs": [],
   "source": [
    "df.reset_index(inplace=True)\n",
    "df.set_index('mmsi', inplace=True)"
   ]
  },
  {
   "cell_type": "code",
   "execution_count": 44,
   "metadata": {
    "scrolled": true
   },
   "outputs": [],
   "source": [
    "df.loc[:, 'shiptype'] = \"Undefined\"\n",
    "\n",
    "for mmsi in intersections_stype:\n",
    "    if (isinstance(df_with_stype.loc[mmsi, 'shiptype'].tolist(), list)):\n",
    "        shiptype = list(set(df_with_stype.loc[mmsi, 'shiptype'].tolist()))[0]\n",
    "    else:\n",
    "        shiptype = df_with_stype.loc[mmsi, 'shiptype'].tolist()\n",
    "    df.loc[mmsi, 'shiptype'] = shiptype"
   ]
  },
  {
   "cell_type": "markdown",
   "metadata": {},
   "source": [
    "Replace shiptype with specific name"
   ]
  },
  {
   "cell_type": "code",
   "execution_count": 106,
   "metadata": {},
   "outputs": [],
   "source": [
    "def map_shiptype(number):\n",
    "    if type(number) == str:\n",
    "        return number\n",
    "    ship_cat = ''\n",
    "    first_digit = int(number) // 10\n",
    "    if first_digit == 1:\n",
    "        ship_cat = 'Reserved'\n",
    "    elif first_digit == 2:\n",
    "        ship_cat = 'Wing in Ground'\n",
    "    elif first_digit == 3:\n",
    "        second_digit = int(number) % 10\n",
    "        if second_digit == 0:\n",
    "            ship_cat = 'Fishing'\n",
    "        elif (second_digit == 1 or second_digit == 2):\n",
    "            ship_cat = 'Towing'\n",
    "        elif second_digit == 3:\n",
    "            ship_cat = 'Dredging Ops'\n",
    "        elif second_digit == 4:\n",
    "            ship_cat = 'Diving Ops'\n",
    "        elif second_digit == 5:\n",
    "            ship_cat = 'Military Ops'\n",
    "        elif second_digit == 6:\n",
    "            ship_cat = 'Sailing'\n",
    "        elif second_digit == 7:\n",
    "            ship_cat = 'Pleasure Craft'\n",
    "        else:\n",
    "            ship_cat = 'Reserved'\n",
    "    elif first_digit == 4:\n",
    "        ship_cat = 'High-Speed Craft'\n",
    "    elif first_digit == 5:\n",
    "        second_digit = int(number) % 10\n",
    "        if second_digit == 0:\n",
    "            ship_cat = 'Pilot Vessel'\n",
    "        if second_digit == 1:\n",
    "            ship_cat = 'SAR'\n",
    "        elif second_digit == 2:\n",
    "            ship_cat = 'Tug'\n",
    "        elif second_digit == 3:\n",
    "            ship_cat = 'Port Tender'\n",
    "        elif second_digit == 4:\n",
    "            ship_cat = 'Pollution Control Vessel'\n",
    "        elif second_digit == 5:\n",
    "            ship_cat = 'Law Enforce'\n",
    "        elif second_digit == 8:\n",
    "            ship_cat = 'Medical Transport'\n",
    "        elif second_digit == 9:\n",
    "            ship_cat = 'Non-combatant Ship'\n",
    "    elif first_digit == 6:\n",
    "        ship_cat = 'Passenger'\n",
    "    elif first_digit == 7:\n",
    "        ship_cat = 'Cargo'\n",
    "    elif first_digit == 8:\n",
    "        ship_cat = 'Tanker'\n",
    "    else:\n",
    "        ship_cat = 'Others'\n",
    "    return ship_cat"
   ]
  },
  {
   "cell_type": "code",
   "execution_count": 107,
   "metadata": {},
   "outputs": [],
   "source": [
    "df['shiptype_name'] = df.shiptype.apply(map_shiptype)"
   ]
  },
  {
   "cell_type": "code",
   "execution_count": 222,
   "metadata": {},
   "outputs": [],
   "source": [
    "shiptype_name = df['shiptype_name'].value_counts()\n",
    "shiptype_name_perc = df['shiptype_name'].value_counts(normalize=True).mul(100).round(1).astype(str) + '%'\n",
    "df_stype = pd.DataFrame(shiptype_name)\n",
    "df_stype.rename(columns={'shiptype_name': 'records'}, inplace=True)"
   ]
  },
  {
   "cell_type": "code",
   "execution_count": 252,
   "metadata": {},
   "outputs": [
    {
     "data": {
      "text/plain": [
       "Tanker                33.2%\n",
       "Others                16.5%\n",
       "Undefined             16.1%\n",
       "Cargo                 13.6%\n",
       "Tug                   13.0%\n",
       "Passenger              1.6%\n",
       "Towing                 1.3%\n",
       "Pleasure Craft         1.2%\n",
       "Pilot Vessel           0.7%\n",
       "Sailing                0.6%\n",
       "Fishing                0.5%\n",
       "Reserved               0.5%\n",
       "Dredging Ops           0.4%\n",
       "High-Speed Craft       0.4%\n",
       "Port Tender            0.2%\n",
       "Wing in Ground         0.1%\n",
       "Diving Ops             0.0%\n",
       "Non-combatant Ship     0.0%\n",
       "SAR                    0.0%\n",
       "Military Ops           0.0%\n",
       "Law Enforce            0.0%\n",
       "Name: shiptype_name, dtype: object"
      ]
     },
     "execution_count": 252,
     "metadata": {},
     "output_type": "execute_result"
    }
   ],
   "source": [
    "shiptype_name_perc"
   ]
  },
  {
   "cell_type": "code",
   "execution_count": 285,
   "metadata": {},
   "outputs": [],
   "source": [
    "df_stype.loc[:, 'ships'] = 0\n",
    "for stype in shiptype_name.keys():\n",
    "    df_stype.loc[stype, 'ships'] = len(df.loc[df['shiptype_name']==stype].mmsi.unique())"
   ]
  },
  {
   "cell_type": "code",
   "execution_count": 286,
   "metadata": {},
   "outputs": [
    {
     "data": {
      "text/html": [
       "<div>\n",
       "<style scoped>\n",
       "    .dataframe tbody tr th:only-of-type {\n",
       "        vertical-align: middle;\n",
       "    }\n",
       "\n",
       "    .dataframe tbody tr th {\n",
       "        vertical-align: top;\n",
       "    }\n",
       "\n",
       "    .dataframe thead th {\n",
       "        text-align: right;\n",
       "    }\n",
       "</style>\n",
       "<table border=\"1\" class=\"dataframe\">\n",
       "  <thead>\n",
       "    <tr style=\"text-align: right;\">\n",
       "      <th></th>\n",
       "      <th>records</th>\n",
       "      <th>ships</th>\n",
       "    </tr>\n",
       "  </thead>\n",
       "  <tbody>\n",
       "    <tr>\n",
       "      <th>Undefined</th>\n",
       "      <td>757946</td>\n",
       "      <td>25051</td>\n",
       "    </tr>\n",
       "    <tr>\n",
       "      <th>Cargo</th>\n",
       "      <td>638086</td>\n",
       "      <td>1662</td>\n",
       "    </tr>\n",
       "    <tr>\n",
       "      <th>Tanker</th>\n",
       "      <td>1559256</td>\n",
       "      <td>1655</td>\n",
       "    </tr>\n",
       "    <tr>\n",
       "      <th>Others</th>\n",
       "      <td>774853</td>\n",
       "      <td>225</td>\n",
       "    </tr>\n",
       "    <tr>\n",
       "      <th>Tug</th>\n",
       "      <td>612853</td>\n",
       "      <td>147</td>\n",
       "    </tr>\n",
       "    <tr>\n",
       "      <th>Passenger</th>\n",
       "      <td>74865</td>\n",
       "      <td>75</td>\n",
       "    </tr>\n",
       "    <tr>\n",
       "      <th>Towing</th>\n",
       "      <td>62792</td>\n",
       "      <td>33</td>\n",
       "    </tr>\n",
       "    <tr>\n",
       "      <th>Pleasure Craft</th>\n",
       "      <td>55347</td>\n",
       "      <td>22</td>\n",
       "    </tr>\n",
       "    <tr>\n",
       "      <th>Fishing</th>\n",
       "      <td>24666</td>\n",
       "      <td>21</td>\n",
       "    </tr>\n",
       "    <tr>\n",
       "      <th>Dredging Ops</th>\n",
       "      <td>20507</td>\n",
       "      <td>18</td>\n",
       "    </tr>\n",
       "    <tr>\n",
       "      <th>High-Speed Craft</th>\n",
       "      <td>19200</td>\n",
       "      <td>18</td>\n",
       "    </tr>\n",
       "    <tr>\n",
       "      <th>Port Tender</th>\n",
       "      <td>10408</td>\n",
       "      <td>15</td>\n",
       "    </tr>\n",
       "    <tr>\n",
       "      <th>Reserved</th>\n",
       "      <td>23953</td>\n",
       "      <td>8</td>\n",
       "    </tr>\n",
       "    <tr>\n",
       "      <th>Wing in Ground</th>\n",
       "      <td>2685</td>\n",
       "      <td>6</td>\n",
       "    </tr>\n",
       "    <tr>\n",
       "      <th>Sailing</th>\n",
       "      <td>30010</td>\n",
       "      <td>5</td>\n",
       "    </tr>\n",
       "    <tr>\n",
       "      <th>Diving Ops</th>\n",
       "      <td>1755</td>\n",
       "      <td>5</td>\n",
       "    </tr>\n",
       "    <tr>\n",
       "      <th>Pilot Vessel</th>\n",
       "      <td>31085</td>\n",
       "      <td>4</td>\n",
       "    </tr>\n",
       "    <tr>\n",
       "      <th>Non-combatant Ship</th>\n",
       "      <td>284</td>\n",
       "      <td>2</td>\n",
       "    </tr>\n",
       "    <tr>\n",
       "      <th>SAR</th>\n",
       "      <td>139</td>\n",
       "      <td>1</td>\n",
       "    </tr>\n",
       "    <tr>\n",
       "      <th>Military Ops</th>\n",
       "      <td>103</td>\n",
       "      <td>1</td>\n",
       "    </tr>\n",
       "    <tr>\n",
       "      <th>Law Enforce</th>\n",
       "      <td>17</td>\n",
       "      <td>1</td>\n",
       "    </tr>\n",
       "  </tbody>\n",
       "</table>\n",
       "</div>"
      ],
      "text/plain": [
       "                    records  ships\n",
       "Undefined            757946  25051\n",
       "Cargo                638086   1662\n",
       "Tanker              1559256   1655\n",
       "Others               774853    225\n",
       "Tug                  612853    147\n",
       "Passenger             74865     75\n",
       "Towing                62792     33\n",
       "Pleasure Craft        55347     22\n",
       "Fishing               24666     21\n",
       "Dredging Ops          20507     18\n",
       "High-Speed Craft      19200     18\n",
       "Port Tender           10408     15\n",
       "Reserved              23953      8\n",
       "Wing in Ground         2685      6\n",
       "Sailing               30010      5\n",
       "Diving Ops             1755      5\n",
       "Pilot Vessel          31085      4\n",
       "Non-combatant Ship      284      2\n",
       "SAR                     139      1\n",
       "Military Ops            103      1\n",
       "Law Enforce              17      1"
      ]
     },
     "execution_count": 286,
     "metadata": {},
     "output_type": "execute_result"
    }
   ],
   "source": [
    "df_stype.sort_values(by=['ships'], ascending=False)"
   ]
  },
  {
   "cell_type": "code",
   "execution_count": 38,
   "metadata": {},
   "outputs": [],
   "source": [
    "from matplotlib import pyplot as plt"
   ]
  },
  {
   "cell_type": "code",
   "execution_count": 39,
   "metadata": {},
   "outputs": [],
   "source": [
    "def plot_ais(df, by='Ships', field='Shiptype'):\n",
    "    plt.style.use('seaborn-dark-palette')\n",
    "\n",
    "    the_x = df.index.tolist()\n",
    "    print(the_x)\n",
    " \n",
    "    if by=='Records':\n",
    "        the_y = df.records.tolist()\n",
    "    else:\n",
    "        the_y = df.ships.tolist()\n",
    "        \n",
    "    plt.barh(the_x, the_y)\n",
    "    plt.title(field+' by '+by)\n",
    "    plt.ylabel(field)\n",
    "    plt.xlabel('Number of ' + by)\n",
    "    \n",
    "    plt.grid()\n",
    "    plt.tight_layout()\n",
    "\n",
    "    if by=='Records':\n",
    "        plt.savefig(field+'_by_records.png')\n",
    "    else:\n",
    "        plt.savefig(field+'_by_ships.png')\n",
    "        \n",
    "    plt.show()"
   ]
  },
  {
   "cell_type": "code",
   "execution_count": 287,
   "metadata": {},
   "outputs": [
    {
     "data": {
      "image/png": "[encoded data removed]",
      "text/plain": [
       "<Figure size 921.6x633.6 with 1 Axes>"
      ]
     },
     "metadata": {},
     "output_type": "display_data"
    }
   ],
   "source": [
    "# data = df_stype.drop(index='Undefined').sort_values(by=['records'], ascending=True)\n",
    "# plot_shiptype(data, 'Records')\n",
    "data = df_stype.drop(index='Undefined').sort_values(by=['ships'], ascending=True)\n",
    "plot_shiptype(data, 'Ships')"
   ]
  },
  {
   "cell_type": "markdown",
   "metadata": {},
   "source": [
    "### Status statistics"
   ]
  },
  {
   "cell_type": "code",
   "execution_count": 227,
   "metadata": {},
   "outputs": [
    {
     "name": "stdout",
     "output_type": "stream",
     "text": [
      "Class A Position Report : 4151563\n"
     ]
    }
   ],
   "source": [
    "df_pos = df.loc[df['type'].isin([1,2,3])]\n",
    "print('Class A Position Report : {}'.format(len(df_pos)))"
   ]
  },
  {
   "cell_type": "code",
   "execution_count": 263,
   "metadata": {},
   "outputs": [],
   "source": [
    "def map_status(number):\n",
    "    status_cat = ''\n",
    "    if number == 0:\n",
    "        status_cat = 'Under way using engine'\n",
    "    elif number == 1:\n",
    "        status_cat = 'At anchor'\n",
    "    elif number == 2:\n",
    "        status_cat = 'Not under command'\n",
    "    elif number == 3:\n",
    "        status_cat = 'Restricted'\n",
    "    elif number == 4:\n",
    "        status_cat = 'Constrained by draught'\n",
    "    elif number == 5:\n",
    "        status_cat = 'Moored'\n",
    "    elif number == 6:\n",
    "        status_cat = 'Aground'\n",
    "    elif number == 7:\n",
    "        status_cat = 'Fishing'\n",
    "    elif number == 8:\n",
    "        status_cat = 'Sailing'\n",
    "    elif number == 15:\n",
    "        status_cat = 'Undefined'\n",
    "    else:\n",
    "        status_cat = 'Reserved'\n",
    "    return status_cat"
   ]
  },
  {
   "cell_type": "code",
   "execution_count": 264,
   "metadata": {},
   "outputs": [
    {
     "name": "stderr",
     "output_type": "stream",
     "text": [
      "/Users/andymultazam/opt/anaconda3/envs/movingpandas/lib/python3.7/site-packages/pandas/core/indexing.py:965: SettingWithCopyWarning: \n",
      "A value is trying to be set on a copy of a slice from a DataFrame.\n",
      "Try using .loc[row_indexer,col_indexer] = value instead\n",
      "\n",
      "See the caveats in the documentation: https://pandas.pydata.org/pandas-docs/stable/user_guide/indexing.html#returning-a-view-versus-a-copy\n",
      "  self.obj[item] = s\n"
     ]
    }
   ],
   "source": [
    "df_pos.loc[:, 'status_name'] = df_pos.status.apply(map_status)"
   ]
  },
  {
   "cell_type": "code",
   "execution_count": 265,
   "metadata": {},
   "outputs": [],
   "source": [
    "status_name = df_pos['status_name'].value_counts()\n",
    "# shiptype_name_perc = df['shiptype_name'].value_counts(normalize=True).mul(100).round(1).astype(str) + '%'\n",
    "df_status = pd.DataFrame(status_name)\n",
    "df_status.rename(columns={'status_name': 'records'}, inplace=True)"
   ]
  },
  {
   "cell_type": "code",
   "execution_count": 266,
   "metadata": {},
   "outputs": [],
   "source": [
    "df_status.loc[:, 'ships'] = 0\n",
    "for status in status_name.keys():\n",
    "    df_status.loc[status, 'ships'] = len(df_pos.loc[df_pos['status_name']==status].mmsi.unique())"
   ]
  },
  {
   "cell_type": "code",
   "execution_count": 40,
   "metadata": {},
   "outputs": [
    {
     "ename": "NameError",
     "evalue": "name 'df_status' is not defined",
     "output_type": "error",
     "traceback": [
      "\u001b[0;31m---------------------------------------------------------------------------\u001b[0m",
      "\u001b[0;31mNameError\u001b[0m                                 Traceback (most recent call last)",
      "\u001b[0;32m<ipython-input-40-d87d3f25cd60>\u001b[0m in \u001b[0;36m<module>\u001b[0;34m\u001b[0m\n\u001b[0;32m----> 1\u001b[0;31m \u001b[0mdf_status\u001b[0m\u001b[0;34m.\u001b[0m\u001b[0msort_values\u001b[0m\u001b[0;34m(\u001b[0m\u001b[0mby\u001b[0m\u001b[0;34m=\u001b[0m\u001b[0;34m[\u001b[0m\u001b[0;34m'ships'\u001b[0m\u001b[0;34m]\u001b[0m\u001b[0;34m,\u001b[0m \u001b[0mascending\u001b[0m\u001b[0;34m=\u001b[0m\u001b[0;32mFalse\u001b[0m\u001b[0;34m)\u001b[0m\u001b[0;34m\u001b[0m\u001b[0;34m\u001b[0m\u001b[0m\n\u001b[0m",
      "\u001b[0;31mNameError\u001b[0m: name 'df_status' is not defined"
     ]
    }
   ],
   "source": [
    "df_status.sort_values(by=['ships'], ascending=False)"
   ]
  },
  {
   "cell_type": "code",
   "execution_count": null,
   "metadata": {},
   "outputs": [],
   "source": [
    "df_status['perc'] = (df_.ships/df_speed.ships.sum()).mul(100).round(2).astype(str) + '%'"
   ]
  },
  {
   "cell_type": "code",
   "execution_count": 275,
   "metadata": {},
   "outputs": [
    {
     "data": {
      "image/png": "[encoded data removed]",
      "text/plain": [
       "<Figure size 921.6x633.6 with 1 Axes>"
      ]
     },
     "metadata": {},
     "output_type": "display_data"
    }
   ],
   "source": [
    "# data = df_status.sort_values(by=['ships'], ascending=True)\n",
    "# plot_ais(data, 'Ships', 'Navigation Status')\n",
    "data = df_status.sort_values(by=['records'], ascending=True)\n",
    "plot_ais(data, 'Records', 'Navigation Status')"
   ]
  },
  {
   "cell_type": "markdown",
   "metadata": {},
   "source": [
    "### Speed statistics"
   ]
  },
  {
   "cell_type": "code",
   "execution_count": 308,
   "metadata": {},
   "outputs": [
    {
     "data": {
      "text/html": [
       "<div>\n",
       "<style scoped>\n",
       "    .dataframe tbody tr th:only-of-type {\n",
       "        vertical-align: middle;\n",
       "    }\n",
       "\n",
       "    .dataframe tbody tr th {\n",
       "        vertical-align: top;\n",
       "    }\n",
       "\n",
       "    .dataframe thead th {\n",
       "        text-align: right;\n",
       "    }\n",
       "</style>\n",
       "<table border=\"1\" class=\"dataframe\">\n",
       "  <thead>\n",
       "    <tr style=\"text-align: right;\">\n",
       "      <th></th>\n",
       "      <th>mmsi</th>\n",
       "      <th>type</th>\n",
       "      <th>speed</th>\n",
       "      <th>accuracy</th>\n",
       "      <th>lon</th>\n",
       "      <th>lat</th>\n",
       "      <th>course</th>\n",
       "      <th>heading</th>\n",
       "      <th>time</th>\n",
       "      <th>status</th>\n",
       "      <th>...</th>\n",
       "      <th>to_stern</th>\n",
       "      <th>to_port</th>\n",
       "      <th>to_starboard</th>\n",
       "      <th>month</th>\n",
       "      <th>day</th>\n",
       "      <th>hour</th>\n",
       "      <th>minute</th>\n",
       "      <th>draught</th>\n",
       "      <th>destination</th>\n",
       "      <th>shiptype_name</th>\n",
       "    </tr>\n",
       "  </thead>\n",
       "  <tbody>\n",
       "    <tr>\n",
       "      <th>0</th>\n",
       "      <td>563015550</td>\n",
       "      <td>18</td>\n",
       "      <td>0.0</td>\n",
       "      <td>0.0</td>\n",
       "      <td>103.72786</td>\n",
       "      <td>1.30646</td>\n",
       "      <td>0.0</td>\n",
       "      <td>NaN</td>\n",
       "      <td>2019-12-01 00:00:07</td>\n",
       "      <td>NaN</td>\n",
       "      <td>...</td>\n",
       "      <td>NaN</td>\n",
       "      <td>NaN</td>\n",
       "      <td>NaN</td>\n",
       "      <td>NaN</td>\n",
       "      <td>NaN</td>\n",
       "      <td>NaN</td>\n",
       "      <td>NaN</td>\n",
       "      <td>NaN</td>\n",
       "      <td>NaN</td>\n",
       "      <td>Tug</td>\n",
       "    </tr>\n",
       "    <tr>\n",
       "      <th>1</th>\n",
       "      <td>563037440</td>\n",
       "      <td>1</td>\n",
       "      <td>0.2</td>\n",
       "      <td>0.0</td>\n",
       "      <td>103.76168</td>\n",
       "      <td>1.29001</td>\n",
       "      <td>94.3</td>\n",
       "      <td>NaN</td>\n",
       "      <td>2019-12-01 00:00:07</td>\n",
       "      <td>15.0</td>\n",
       "      <td>...</td>\n",
       "      <td>NaN</td>\n",
       "      <td>NaN</td>\n",
       "      <td>NaN</td>\n",
       "      <td>NaN</td>\n",
       "      <td>NaN</td>\n",
       "      <td>NaN</td>\n",
       "      <td>NaN</td>\n",
       "      <td>NaN</td>\n",
       "      <td>NaN</td>\n",
       "      <td>Tanker</td>\n",
       "    </tr>\n",
       "    <tr>\n",
       "      <th>2</th>\n",
       "      <td>563040772</td>\n",
       "      <td>18</td>\n",
       "      <td>12.0</td>\n",
       "      <td>0.0</td>\n",
       "      <td>103.75896</td>\n",
       "      <td>1.29214</td>\n",
       "      <td>49.4</td>\n",
       "      <td>NaN</td>\n",
       "      <td>2019-12-01 00:00:08</td>\n",
       "      <td>NaN</td>\n",
       "      <td>...</td>\n",
       "      <td>NaN</td>\n",
       "      <td>NaN</td>\n",
       "      <td>NaN</td>\n",
       "      <td>NaN</td>\n",
       "      <td>NaN</td>\n",
       "      <td>NaN</td>\n",
       "      <td>NaN</td>\n",
       "      <td>NaN</td>\n",
       "      <td>NaN</td>\n",
       "      <td>Undefined</td>\n",
       "    </tr>\n",
       "    <tr>\n",
       "      <th>3</th>\n",
       "      <td>566000010</td>\n",
       "      <td>1</td>\n",
       "      <td>0.2</td>\n",
       "      <td>1.0</td>\n",
       "      <td>103.76094</td>\n",
       "      <td>1.29310</td>\n",
       "      <td>NaN</td>\n",
       "      <td>120.0</td>\n",
       "      <td>2019-12-01 00:00:30</td>\n",
       "      <td>0.0</td>\n",
       "      <td>...</td>\n",
       "      <td>NaN</td>\n",
       "      <td>NaN</td>\n",
       "      <td>NaN</td>\n",
       "      <td>NaN</td>\n",
       "      <td>NaN</td>\n",
       "      <td>NaN</td>\n",
       "      <td>NaN</td>\n",
       "      <td>NaN</td>\n",
       "      <td>NaN</td>\n",
       "      <td>Undefined</td>\n",
       "    </tr>\n",
       "    <tr>\n",
       "      <th>4</th>\n",
       "      <td>255805665</td>\n",
       "      <td>1</td>\n",
       "      <td>16.8</td>\n",
       "      <td>0.0</td>\n",
       "      <td>103.75723</td>\n",
       "      <td>1.13256</td>\n",
       "      <td>46.1</td>\n",
       "      <td>48.0</td>\n",
       "      <td>2019-12-01 00:00:30</td>\n",
       "      <td>0.0</td>\n",
       "      <td>...</td>\n",
       "      <td>NaN</td>\n",
       "      <td>NaN</td>\n",
       "      <td>NaN</td>\n",
       "      <td>NaN</td>\n",
       "      <td>NaN</td>\n",
       "      <td>NaN</td>\n",
       "      <td>NaN</td>\n",
       "      <td>NaN</td>\n",
       "      <td>NaN</td>\n",
       "      <td>Undefined</td>\n",
       "    </tr>\n",
       "  </tbody>\n",
       "</table>\n",
       "<p>5 rows × 26 columns</p>\n",
       "</div>"
      ],
      "text/plain": [
       "        mmsi  type  speed  accuracy        lon      lat  course  heading  \\\n",
       "0  563015550    18    0.0       0.0  103.72786  1.30646     0.0      NaN   \n",
       "1  563037440     1    0.2       0.0  103.76168  1.29001    94.3      NaN   \n",
       "2  563040772    18   12.0       0.0  103.75896  1.29214    49.4      NaN   \n",
       "3  566000010     1    0.2       1.0  103.76094  1.29310     NaN    120.0   \n",
       "4  255805665     1   16.8       0.0  103.75723  1.13256    46.1     48.0   \n",
       "\n",
       "                 time  status  ...  to_stern  to_port to_starboard month day  \\\n",
       "0 2019-12-01 00:00:07     NaN  ...       NaN      NaN          NaN   NaN NaN   \n",
       "1 2019-12-01 00:00:07    15.0  ...       NaN      NaN          NaN   NaN NaN   \n",
       "2 2019-12-01 00:00:08     NaN  ...       NaN      NaN          NaN   NaN NaN   \n",
       "3 2019-12-01 00:00:30     0.0  ...       NaN      NaN          NaN   NaN NaN   \n",
       "4 2019-12-01 00:00:30     0.0  ...       NaN      NaN          NaN   NaN NaN   \n",
       "\n",
       "   hour  minute  draught  destination  shiptype_name  \n",
       "0   NaN     NaN      NaN          NaN            Tug  \n",
       "1   NaN     NaN      NaN          NaN         Tanker  \n",
       "2   NaN     NaN      NaN          NaN      Undefined  \n",
       "3   NaN     NaN      NaN          NaN      Undefined  \n",
       "4   NaN     NaN      NaN          NaN      Undefined  \n",
       "\n",
       "[5 rows x 26 columns]"
      ]
     },
     "execution_count": 308,
     "metadata": {},
     "output_type": "execute_result"
    }
   ],
   "source": [
    "df.head()"
   ]
  },
  {
   "cell_type": "code",
   "execution_count": 315,
   "metadata": {},
   "outputs": [],
   "source": [
    "df['cat_speed'] = pd.cut(df.speed, bins=5, labels=['Slow', 'Medium', 'High', 'Very High', 'Outlier'])"
   ]
  },
  {
   "cell_type": "code",
   "execution_count": 356,
   "metadata": {},
   "outputs": [],
   "source": [
    "# df.sort_values(by=['mmsi', 'time']).reset_index().loc[100:150, :]"
   ]
  },
  {
   "cell_type": "code",
   "execution_count": 345,
   "metadata": {},
   "outputs": [
    {
     "data": {
      "text/plain": [
       "0.9504547088693225"
      ]
     },
     "execution_count": 345,
     "metadata": {},
     "output_type": "execute_result"
    }
   ],
   "source": [
    "df['speed'].notnull().sum()/len(df)"
   ]
  },
  {
   "cell_type": "code",
   "execution_count": 346,
   "metadata": {},
   "outputs": [
    {
     "data": {
      "text/plain": [
       "232903"
      ]
     },
     "execution_count": 346,
     "metadata": {},
     "output_type": "execute_result"
    }
   ],
   "source": [
    "df['cat_speed'].isnull().sum()"
   ]
  },
  {
   "cell_type": "code",
   "execution_count": 335,
   "metadata": {},
   "outputs": [
    {
     "data": {
      "text/plain": [
       "4467907"
      ]
     },
     "execution_count": 335,
     "metadata": {},
     "output_type": "execute_result"
    }
   ],
   "source": [
    "speed_cat"
   ]
  },
  {
   "cell_type": "code",
   "execution_count": 320,
   "metadata": {},
   "outputs": [],
   "source": [
    "speed_cat = df['cat_speed'].value_counts()\n",
    "df_speed = pd.DataFrame(speed_cat)\n",
    "df_speed.rename(columns={'cat_speed': 'records'}, inplace=True)"
   ]
  },
  {
   "cell_type": "code",
   "execution_count": 323,
   "metadata": {},
   "outputs": [],
   "source": [
    "df_speed.loc[:, 'ships'] = 0\n",
    "for speed in speed_cat.keys():\n",
    "    df_speed.loc[speed, 'ships'] = len(df.loc[df['cat_speed']==speed].mmsi.unique())"
   ]
  },
  {
   "cell_type": "code",
   "execution_count": 332,
   "metadata": {},
   "outputs": [],
   "source": [
    "df_speed['perc'] = (df_speed.ships/df_speed.ships.sum()).mul(100).round(2).astype(str) + '%'"
   ]
  },
  {
   "cell_type": "code",
   "execution_count": 333,
   "metadata": {},
   "outputs": [
    {
     "data": {
      "text/html": [
       "<div>\n",
       "<style scoped>\n",
       "    .dataframe tbody tr th:only-of-type {\n",
       "        vertical-align: middle;\n",
       "    }\n",
       "\n",
       "    .dataframe tbody tr th {\n",
       "        vertical-align: top;\n",
       "    }\n",
       "\n",
       "    .dataframe thead th {\n",
       "        text-align: right;\n",
       "    }\n",
       "</style>\n",
       "<table border=\"1\" class=\"dataframe\">\n",
       "  <thead>\n",
       "    <tr style=\"text-align: right;\">\n",
       "      <th></th>\n",
       "      <th>records</th>\n",
       "      <th>ships</th>\n",
       "      <th>perc</th>\n",
       "    </tr>\n",
       "  </thead>\n",
       "  <tbody>\n",
       "    <tr>\n",
       "      <th>Slow</th>\n",
       "      <td>4359309</td>\n",
       "      <td>26666</td>\n",
       "      <td>87.34%</td>\n",
       "    </tr>\n",
       "    <tr>\n",
       "      <th>Medium</th>\n",
       "      <td>105873</td>\n",
       "      <td>1582</td>\n",
       "      <td>5.18%</td>\n",
       "    </tr>\n",
       "    <tr>\n",
       "      <th>High</th>\n",
       "      <td>1071</td>\n",
       "      <td>876</td>\n",
       "      <td>2.87%</td>\n",
       "    </tr>\n",
       "    <tr>\n",
       "      <th>Outlier</th>\n",
       "      <td>954</td>\n",
       "      <td>800</td>\n",
       "      <td>2.62%</td>\n",
       "    </tr>\n",
       "    <tr>\n",
       "      <th>Very High</th>\n",
       "      <td>700</td>\n",
       "      <td>608</td>\n",
       "      <td>1.99%</td>\n",
       "    </tr>\n",
       "  </tbody>\n",
       "</table>\n",
       "</div>"
      ],
      "text/plain": [
       "           records  ships    perc\n",
       "Slow       4359309  26666  87.34%\n",
       "Medium      105873   1582   5.18%\n",
       "High          1071    876   2.87%\n",
       "Outlier        954    800   2.62%\n",
       "Very High      700    608   1.99%"
      ]
     },
     "execution_count": 333,
     "metadata": {},
     "output_type": "execute_result"
    }
   ],
   "source": [
    "df_speed"
   ]
  },
  {
   "cell_type": "code",
   "execution_count": 325,
   "metadata": {},
   "outputs": [
    {
     "data": {
      "image/png": "[encoded data removed]",
      "text/plain": [
       "<Figure size 921.6x633.6 with 1 Axes>"
      ]
     },
     "metadata": {},
     "output_type": "display_data"
    }
   ],
   "source": [
    "data = df_speed.sort_values(by='ships')\n",
    "plot_ais(data, 'Ships', 'Speed Category')"
   ]
  },
  {
   "cell_type": "markdown",
   "metadata": {},
   "source": [
    "### Course"
   ]
  },
  {
   "cell_type": "code",
   "execution_count": null,
   "metadata": {},
   "outputs": [],
   "source": [
    "df['cat_course'] = pd.cut(df.course, bins=8, labels=['Slow', 'Medium', 'High', 'Very High', 'Outlier'])"
   ]
  },
  {
   "cell_type": "markdown",
   "metadata": {},
   "source": [
    "### Type"
   ]
  },
  {
   "cell_type": "code",
   "execution_count": 10,
   "metadata": {},
   "outputs": [],
   "source": [
    "type_cat = df['type'].value_counts()\n",
    "df_type = pd.DataFrame(type_cat)\n",
    "df_type.rename(columns={'type': 'records'}, inplace=True)"
   ]
  },
  {
   "cell_type": "code",
   "execution_count": 11,
   "metadata": {},
   "outputs": [
    {
     "data": {
      "text/plain": [
       "Int64Index([1, 3, 18, 5, 19, 2], dtype='int64')"
      ]
     },
     "execution_count": 11,
     "metadata": {},
     "output_type": "execute_result"
    }
   ],
   "source": [
    "type_cat.keys()"
   ]
  },
  {
   "cell_type": "code",
   "execution_count": 12,
   "metadata": {},
   "outputs": [],
   "source": [
    "df_type.loc[:, 'ships'] = 0\n",
    "for types in type_cat.keys():\n",
    "    df_type.loc[types, 'ships'] = len(df.loc[df['type']==types].mmsi.unique())"
   ]
  },
  {
   "cell_type": "code",
   "execution_count": 31,
   "metadata": {},
   "outputs": [],
   "source": [
    "df_type.index = df_type.index.astype(str)"
   ]
  },
  {
   "cell_type": "code",
   "execution_count": 35,
   "metadata": {},
   "outputs": [
    {
     "name": "stdout",
     "output_type": "stream",
     "text": [
      "['2', '19', '5', '18', '3', '1']\n"
     ]
    },
    {
     "data": {
      "image/png": "[encoded data removed]",
      "text/plain": [
       "<Figure size 432x288 with 1 Axes>"
      ]
     },
     "metadata": {
      "needs_background": "light"
     },
     "output_type": "display_data"
    }
   ],
   "source": [
    "data = df_type.sort_values(by='records')\n",
    "plot_ais(data, 'Records', 'Type')"
   ]
  },
  {
   "cell_type": "code",
   "execution_count": 37,
   "metadata": {},
   "outputs": [
    {
     "name": "stdout",
     "output_type": "stream",
     "text": [
      "['19', '2', '18', '5', '3', '1']\n"
     ]
    },
    {
     "data": {
      "image/png": "[encoded data removed]",
      "text/plain": [
       "<Figure size 432x288 with 1 Axes>"
      ]
     },
     "metadata": {
      "needs_background": "light"
     },
     "output_type": "display_data"
    }
   ],
   "source": [
    "data = df_type.sort_values(by='ships')\n",
    "plot_ais(data, 'Ship', 'Type')"
   ]
  },
  {
   "cell_type": "code",
   "execution_count": null,
   "metadata": {},
   "outputs": [],
   "source": []
  }
 ],
 "metadata": {
  "kernelspec": {
   "display_name": "Python 3",
   "language": "python",
   "name": "python3"
  },
  "language_info": {
   "codemirror_mode": {
    "name": "ipython",
    "version": 3
   },
   "file_extension": ".py",
   "mimetype": "text/x-python",
   "name": "python",
   "nbconvert_exporter": "python",
   "pygments_lexer": "ipython3",
   "version": "3.7.6"
  }
 },
 "nbformat": 4,
 "nbformat_minor": 4
}
