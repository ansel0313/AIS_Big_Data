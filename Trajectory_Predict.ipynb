{
 "cells": [
  {
   "cell_type": "code",
   "execution_count": 1,
   "id": "dede3c02",
   "metadata": {},
   "outputs": [],
   "source": [
    "import pandas as pd\n",
    "import numpy as np\n",
    "import matplotlib.pyplot as plt\n",
    "import folium"
   ]
  },
  {
   "cell_type": "markdown",
   "id": "9f3c82e9",
   "metadata": {},
   "source": [
    "# 1. 取出csv数据，按照MMSI和Timestamp排列，将时间戳转化为时间间距，保存为.npz"
   ]
  },
  {
   "cell_type": "code",
   "execution_count": 2,
   "id": "468848b8",
   "metadata": {},
   "outputs": [],
   "source": [
    "# enter path here\n",
    "data_path = r''\n",
    "save_path =  r''\n",
    "save_path_train =  r''\n",
    "save_path_predict =  r''"
   ]
  },
  {
   "cell_type": "code",
   "execution_count": 24,
   "id": "8a6e2b92",
   "metadata": {},
   "outputs": [],
   "source": [
    "fields = [0, 2, 8, 7, 5, 9 ] # Timestamp, MMSI, Lat, Long, SOG, COG\n",
    "# n_rows = 30000              # Pulls this many rows of data, because all of it is too much"
   ]
  },
  {
   "cell_type": "code",
   "execution_count": 30,
   "id": "f9d06e7b",
   "metadata": {},
   "outputs": [],
   "source": [
    "df = pd.read_csv(data_path,encoding='gbk',usecols=fields)"
   ]
  },
  {
   "cell_type": "code",
   "execution_count": 31,
   "id": "53fa5021",
   "metadata": {},
   "outputs": [],
   "source": [
    "df = df.dropna()"
   ]
  },
  {
   "cell_type": "code",
   "execution_count": 29,
   "id": "614a685a",
   "metadata": {},
   "outputs": [
    {
     "data": {
      "text/html": [
       "<div>\n",
       "<style scoped>\n",
       "    .dataframe tbody tr th:only-of-type {\n",
       "        vertical-align: middle;\n",
       "    }\n",
       "\n",
       "    .dataframe tbody tr th {\n",
       "        vertical-align: top;\n",
       "    }\n",
       "\n",
       "    .dataframe thead th {\n",
       "        text-align: right;\n",
       "    }\n",
       "</style>\n",
       "<table border=\"1\" class=\"dataframe\">\n",
       "  <thead>\n",
       "    <tr style=\"text-align: right;\">\n",
       "      <th></th>\n",
       "      <th>时间</th>\n",
       "      <th>船舶MMSI</th>\n",
       "      <th>SOG</th>\n",
       "      <th>经度</th>\n",
       "      <th>纬度</th>\n",
       "      <th>COG</th>\n",
       "    </tr>\n",
       "  </thead>\n",
       "  <tbody>\n",
       "    <tr>\n",
       "      <th>0</th>\n",
       "      <td>2023-01-30 23:59:59</td>\n",
       "      <td>413376990</td>\n",
       "      <td>9.5</td>\n",
       "      <td>122.304143</td>\n",
       "      <td>31.102057</td>\n",
       "      <td>123.9</td>\n",
       "    </tr>\n",
       "    <tr>\n",
       "      <th>1</th>\n",
       "      <td>2023-01-31 00:00:00</td>\n",
       "      <td>414574000</td>\n",
       "      <td>10.7</td>\n",
       "      <td>120.617920</td>\n",
       "      <td>38.629153</td>\n",
       "      <td>110.8</td>\n",
       "    </tr>\n",
       "    <tr>\n",
       "      <th>2</th>\n",
       "      <td>2023-01-31 00:00:00</td>\n",
       "      <td>413324940</td>\n",
       "      <td>0.1</td>\n",
       "      <td>119.639500</td>\n",
       "      <td>37.800067</td>\n",
       "      <td>290.1</td>\n",
       "    </tr>\n",
       "    <tr>\n",
       "      <th>3</th>\n",
       "      <td>2023-01-31 00:00:00</td>\n",
       "      <td>525125006</td>\n",
       "      <td>16.5</td>\n",
       "      <td>121.019968</td>\n",
       "      <td>38.483102</td>\n",
       "      <td>119.5</td>\n",
       "    </tr>\n",
       "    <tr>\n",
       "      <th>4</th>\n",
       "      <td>2023-01-31 00:00:00</td>\n",
       "      <td>413436370</td>\n",
       "      <td>0.0</td>\n",
       "      <td>121.958908</td>\n",
       "      <td>38.825000</td>\n",
       "      <td>251.6</td>\n",
       "    </tr>\n",
       "  </tbody>\n",
       "</table>\n",
       "</div>"
      ],
      "text/plain": [
       "                    时间     船舶MMSI   SOG          经度         纬度    COG\n",
       "0  2023-01-30 23:59:59  413376990   9.5  122.304143  31.102057  123.9\n",
       "1  2023-01-31 00:00:00  414574000  10.7  120.617920  38.629153  110.8\n",
       "2  2023-01-31 00:00:00  413324940   0.1  119.639500  37.800067  290.1\n",
       "3  2023-01-31 00:00:00  525125006  16.5  121.019968  38.483102  119.5\n",
       "4  2023-01-31 00:00:00  413436370   0.0  121.958908  38.825000  251.6"
      ]
     },
     "execution_count": 29,
     "metadata": {},
     "output_type": "execute_result"
    }
   ],
   "source": [
    "df.head()"
   ]
  },
  {
   "cell_type": "code",
   "execution_count": 32,
   "id": "1ebf06b9",
   "metadata": {},
   "outputs": [],
   "source": [
    "df = df[['时间','船舶MMSI','纬度','经度','SOG','COG']]"
   ]
  },
  {
   "cell_type": "code",
   "execution_count": 33,
   "id": "fb3e94a1",
   "metadata": {},
   "outputs": [],
   "source": [
    "# change dataframe to numpy array\n",
    "df = df.values\n",
    "\n",
    "# new number of rows and columns\n",
    "n_rows, n_cols = df.shape"
   ]
  },
  {
   "cell_type": "code",
   "execution_count": 35,
   "id": "054f1d05",
   "metadata": {},
   "outputs": [],
   "source": [
    "# sort by MMSI, then by time/date\n",
    "df = df[np.lexsort((df[:, 0], df[:, 1]))]"
   ]
  },
  {
   "cell_type": "code",
   "execution_count": 36,
   "id": "be716825",
   "metadata": {
    "scrolled": true
   },
   "outputs": [
    {
     "data": {
      "text/plain": [
       "array([['2023-01-31 00:00:37', 0, 38.32315333333333, 121.00849666666667,\n",
       "        0.0, 0.0],\n",
       "       ['2023-01-31 00:00:58', 0, 38.32346666666667, 120.9729, 0.0, 0.0],\n",
       "       ['2023-01-31 00:01:02', 0, 24.33272833333333, 118.19321, 0.7,\n",
       "        59.0],\n",
       "       ...,\n",
       "       ['2023-01-31 23:12:01', 1020001801, 37.595845, 121.40482, 0.0,\n",
       "        303.5],\n",
       "       ['2023-01-31 23:25:21', 1020001801, 37.59581833333333,\n",
       "        121.40480166666669, 0.0, 303.5],\n",
       "       ['2023-01-31 23:54:53', 1020001801, 37.59055833333333,\n",
       "        121.40360333333334, 6.3, 188.6]], dtype=object)"
      ]
     },
     "execution_count": 36,
     "metadata": {},
     "output_type": "execute_result"
    }
   ],
   "source": [
    "df"
   ]
  },
  {
   "cell_type": "code",
   "execution_count": 37,
   "id": "919ed185",
   "metadata": {},
   "outputs": [],
   "source": [
    "# convert time to int (unit:second)\n",
    "for i in range(n_rows):\n",
    "    df[i][0] = int(df[i][0][11:13])*3600 + int(df[i][0][14:16])*60 + int(df[i][0][17:])"
   ]
  },
  {
   "cell_type": "code",
   "execution_count": 38,
   "id": "e2125cf2",
   "metadata": {},
   "outputs": [],
   "source": [
    "# create timedeltas\n",
    "i = 0\n",
    "while i in range(10):\n",
    "    end = False\n",
    "    temp = []\n",
    "    start = i\n",
    "    try:\n",
    "        while df[i+1][1] == df[i][1]:\n",
    "            temp.append(df[i][0])\n",
    "            i += 1\n",
    "            end = True\n",
    "    except: pass\n",
    "\n",
    "    if end is True:\n",
    "        temp.append(df[i][0])\n",
    "        diff_array = np.diff(temp)\n",
    "\n",
    "        df[start][0] = 0   # inital point \n",
    "        df[start+1:i+1, 0] = diff_array  # difference \n",
    "    i += 1"
   ]
  },
  {
   "cell_type": "code",
   "execution_count": 39,
   "id": "c018ba7a",
   "metadata": {},
   "outputs": [],
   "source": [
    "np.savez(save_path, sorted_data=df)"
   ]
  },
  {
   "cell_type": "markdown",
   "id": "7aed566b",
   "metadata": {},
   "source": [
    "# 2. 将数据转化为数据集\n",
    "- 数据标准化\n",
    "- 舍弃同一个MMSI少于5个数据点的数据\n",
    "- 将5个连续时间点作为输入，第6给作为输出\n",
    "- input = (batch_size, 5 , 5(time, lat,long, sog.cog))\n",
    "- output = (batch_size, 1, 2(lat,long))"
   ]
  },
  {
   "cell_type": "code",
   "execution_count": 3,
   "id": "d0b11ba9",
   "metadata": {},
   "outputs": [],
   "source": [
    "# read data\n",
    "sorted_data = np.load(save_path,allow_pickle=True)\n",
    "df = sorted_data['sorted_data']"
   ]
  },
  {
   "cell_type": "code",
   "execution_count": 4,
   "id": "5307494e",
   "metadata": {},
   "outputs": [],
   "source": [
    "# take out mmsi column\n",
    "second_column = df[:, 1]\n",
    "# find number of batches (Those with less than 5 data points for the same MMSI will be discarded)\n",
    "batch_count = 0\n",
    "unique_vals, unique_count = np.unique(second_column, return_counts=True)\n",
    "for i in unique_count:\n",
    "    if i >= 5:\n",
    "        batch_count += (i - 4)"
   ]
  },
  {
   "cell_type": "code",
   "execution_count": 5,
   "id": "23c667eb",
   "metadata": {},
   "outputs": [],
   "source": [
    "# create empty x,y train\n",
    "x_train = np.empty([batch_count, 5, 6])\n",
    "y_train = np.empty([batch_count, 6])"
   ]
  },
  {
   "cell_type": "code",
   "execution_count": 6,
   "id": "637d992a",
   "metadata": {},
   "outputs": [],
   "source": [
    "first_lat = []   # first lat of each MMSI\n",
    "first_long = []  # first long of each MMSI\n",
    "k = 0\n",
    "# make data set into relative latitudes and longitudes\n",
    "for i in range(len(unique_count)):\n",
    "    first_lat.append(df[k][2])\n",
    "    first_long.append(df[k][3])\n",
    "    k += unique_count[i]\n",
    "\n",
    "k = 0\n",
    "last_count = 0\n",
    "for i in range(len(df)):\n",
    "    df[i, 2] = df[i, 2] - first_lat[k]\n",
    "    df[i, 3] = df[i, 3] - first_long[k]\n",
    "    if (i - last_count) == unique_count[k]:\n",
    "        last_count = i\n",
    "        k += 1"
   ]
  },
  {
   "cell_type": "code",
   "execution_count": 44,
   "id": "fd3f7aa4",
   "metadata": {},
   "outputs": [],
   "source": [
    "# normalize dataset\n",
    "lat_min = -90\n",
    "lat_max = 90\n",
    "long_min = -180\n",
    "long_max = 180\n",
    "speed_min = 0\n",
    "speed_max = np.amax(df[:, [4]])\n",
    "time_min = 0\n",
    "time_max = np.amax(df[:, [0]])\n",
    "course_min = 0\n",
    "course_max = np.max(df[:, [5]])\n",
    "\n",
    "# change data from 0 to 1\n",
    "# df[:, [2]] = ((df[:, [2]] - lat_min)/(lat_max - lat_min))\n",
    "# df[:, [3]] = ((df[:, [3]] - long_min)/(long_max - long_min))\n",
    "df[:, [0]] = (df[:, [0]] - time_min) / (time_max - time_min)\n",
    "df[:, [4]] = (df[:, [4]] - speed_min) / (speed_max - speed_min)\n",
    "df[:, [5]] = (df[:, [5]] - course_min) / (course_max - course_min)"
   ]
  },
  {
   "cell_type": "code",
   "execution_count": null,
   "id": "742d47d5",
   "metadata": {},
   "outputs": [],
   "source": [
    "# fill batches\n",
    "i = 0\n",
    "\n",
    "# 5 timestep as input and 1 timestep as output\n",
    "for count, k in enumerate(second_column):\n",
    "    try:\n",
    "        if second_column[count + 5] == k:\n",
    "            x_train[i][0][:] = df[count][:]\n",
    "            x_train[i][1][:] = df[count + 1][:]\n",
    "            x_train[i][2][:] = df[count + 2][:]\n",
    "            x_train[i][3][:] = df[count + 3][:]\n",
    "            x_train[i][4][:] = df[count + 4][:]\n",
    "\n",
    "            y_train[i][:] = df[count + 5][:]\n",
    "            i += 1\n",
    "    except:\n",
    "        pass"
   ]
  },
  {
   "cell_type": "code",
   "execution_count": null,
   "id": "ce3a87d9",
   "metadata": {},
   "outputs": [],
   "source": [
    "# take out name feature column, cut to size of i above\n",
    "x_train = x_train[:i - 1, :, [0, 2, 3, 4, 5]]\n",
    "y_train = y_train[:i - 1, [2, 3]]\n",
    "\n",
    "# splice data for training and testing\n",
    "train_length = int(i * 0.8)\n",
    "y_test = y_train[train_length:, :]\n",
    "x_test = x_train[train_length:, :, :]\n",
    "\n",
    "y_train = y_train[:train_length + 1, :]\n",
    "x_train = x_train[:train_length + 1, :, :]"
   ]
  },
  {
   "cell_type": "code",
   "execution_count": null,
   "id": "8e0aed73",
   "metadata": {},
   "outputs": [],
   "source": [
    "np.savez(save_path_train, x_train=x_train, y_train=y_train, x_test=x_test, y_test=y_test)"
   ]
  },
  {
   "cell_type": "markdown",
   "id": "a131567a",
   "metadata": {},
   "source": [
    "# *可视化"
   ]
  },
  {
   "cell_type": "code",
   "execution_count": 3,
   "id": "89d1c139",
   "metadata": {},
   "outputs": [],
   "source": [
    "sorted_data = np.load(save_path,allow_pickle=True)\n",
    "df = sorted_data['sorted_data']\n",
    "\n",
    "test = []\n",
    "temp = []"
   ]
  },
  {
   "cell_type": "code",
   "execution_count": 4,
   "id": "ede79e30",
   "metadata": {},
   "outputs": [],
   "source": [
    "# take out MMSI column\n",
    "second_column = df[:, 1]"
   ]
  },
  {
   "cell_type": "code",
   "execution_count": 5,
   "id": "a41a1a2c",
   "metadata": {},
   "outputs": [],
   "source": [
    "unique_vals, unique_count = np.unique(second_column, return_counts=True)"
   ]
  },
  {
   "cell_type": "code",
   "execution_count": 6,
   "id": "4f439357",
   "metadata": {
    "scrolled": true
   },
   "outputs": [],
   "source": [
    "k = 0\n",
    "last_count = 0\n",
    "for i in range(len(df)):\n",
    "    temp.append(tuple([df[i][2], df[i][3]]))\n",
    "    if (i - last_count) == unique_count[k]:\n",
    "        test.append(temp)\n",
    "        temp = []\n",
    "        last_count = i\n",
    "        k += 1\n",
    "test.append(temp)"
   ]
  },
  {
   "cell_type": "code",
   "execution_count": 7,
   "id": "c934baf9",
   "metadata": {},
   "outputs": [],
   "source": [
    "center = [df[i-1][2], df[i-1][3]]"
   ]
  },
  {
   "cell_type": "code",
   "execution_count": 22,
   "id": "03ec39f6",
   "metadata": {},
   "outputs": [],
   "source": [
    "m = folium.Map(location=center, tiles=\"OpenStreetMap\", zoom_start=6)"
   ]
  },
  {
   "cell_type": "code",
   "execution_count": 23,
   "id": "3fdd484e",
   "metadata": {
    "scrolled": false
   },
   "outputs": [],
   "source": [
    "for i in range(len(test[600:700])):\n",
    "    for j in range(len(test[i])):\n",
    "        folium.Circle(\n",
    "            radius=2,\n",
    "            location = test[i][j],\n",
    "        ).add_to(m)"
   ]
  },
  {
   "cell_type": "code",
   "execution_count": 26,
   "id": "52062172",
   "metadata": {},
   "outputs": [],
   "source": [
    "m.save(\"vis-2022-11-01.html\")"
   ]
  },
  {
   "cell_type": "markdown",
   "id": "ca6c4b6d",
   "metadata": {},
   "source": [
    "# 3.模型预测"
   ]
  },
  {
   "cell_type": "code",
   "execution_count": 7,
   "id": "693c7c74",
   "metadata": {},
   "outputs": [],
   "source": [
    "import glob\n",
    "import os\n",
    "from math import sin, cos, sqrt, atan2, radians\n",
    "from tensorflow.keras.models import model_from_json\n",
    "from tensorflow.keras import optimizers\n",
    "from tensorflow.keras import backend\n",
    "from sklearn.metrics import mean_squared_error"
   ]
  },
  {
   "cell_type": "code",
   "execution_count": 8,
   "id": "cdcb8120",
   "metadata": {},
   "outputs": [],
   "source": [
    "model_name_json = r''        #  enter json path here\n",
    "model_name_h5 = r''          # enter h5 path here"
   ]
  },
  {
   "cell_type": "code",
   "execution_count": 9,
   "id": "4666a06b",
   "metadata": {},
   "outputs": [],
   "source": [
    "training_data = np.load(save_path_train)\n",
    "x_test = training_data['x_test']\n",
    "y_test = training_data['y_test']"
   ]
  },
  {
   "cell_type": "code",
   "execution_count": 10,
   "id": "4caca6bf",
   "metadata": {},
   "outputs": [],
   "source": [
    "# Finding the most recent files\n",
    "list_of_jsons = glob.glob('../../models/*.json')\n",
    "list_of_jsons.sort(key=os.path.getctime, reverse=True)\n",
    "\n",
    "list_of_h5 = glob.glob('../../models/*.h5')\n",
    "list_of_h5.sort(key=os.path.getctime, reverse=True)"
   ]
  },
  {
   "cell_type": "code",
   "execution_count": 11,
   "id": "29cbfbad",
   "metadata": {},
   "outputs": [
    {
     "name": "stdout",
     "output_type": "stream",
     "text": [
      "WARNING:tensorflow:Layer lstm_1 will not use cuDNN kernels since it doesn't meet the criteria. It will use a generic GPU kernel as fallback when running on GPU.\n",
      "WARNING:tensorflow:Layer lstm_2 will not use cuDNN kernels since it doesn't meet the criteria. It will use a generic GPU kernel as fallback when running on GPU.\n",
      "WARNING:tensorflow:Layer lstm_3 will not use cuDNN kernels since it doesn't meet the criteria. It will use a generic GPU kernel as fallback when running on GPU.\n"
     ]
    }
   ],
   "source": [
    "json_file = open(model_name_json, 'r')\n",
    "\n",
    "loaded_model_json = json_file.read()\n",
    "json_file.close()\n",
    "loaded_model = model_from_json(loaded_model_json)\n",
    "loaded_model.load_weights(model_name_h5)"
   ]
  },
  {
   "cell_type": "code",
   "execution_count": 13,
   "id": "543716b6",
   "metadata": {},
   "outputs": [],
   "source": [
    "def firsts():\n",
    "    lats = first_lat\n",
    "    longs = first_long\n",
    "    unique = unique_count\n",
    "    return [lats, longs, unique]"
   ]
  },
  {
   "cell_type": "code",
   "execution_count": 14,
   "id": "aa288569",
   "metadata": {
    "scrolled": true
   },
   "outputs": [],
   "source": [
    "# Function Definitions\n",
    "def rmse(y_true, y_pred):\n",
    "    return backend.sqrt(backend.mean(backend.square(y_pred - y_true), axis=-1))\n",
    "\n",
    "\n",
    "# Get distance between pairs of lat-lon points (in meters)\n",
    "def distance(lat1, lon1, lat2, lon2):\n",
    "    r = 6373.0\n",
    "\n",
    "    lat1 = radians(lat1)\n",
    "    lon1 = radians(lon1)\n",
    "    lat2 = radians(lat2)\n",
    "    lon2 = radians(lon2)\n",
    "\n",
    "    dlon = lon2 - lon1\n",
    "    dlat = lat2 - lat1\n",
    "\n",
    "    a = sin(dlat / 2) ** 2 + cos(lat1) * cos(lat2) * sin(dlon / 2) ** 2\n",
    "    c = 2 * atan2(sqrt(a), sqrt(1 - a))\n",
    "\n",
    "    dist = r*c*1000\n",
    "\n",
    "    return dist\n",
    "\n",
    "\n",
    "# Custom adam optimizer\n",
    "adam = optimizers.Adam(learning_rate=0.0005, beta_1=0.9, beta_2=0.999, epsilon=None, decay=0.0, amsgrad=False)\n",
    "\n",
    "# evaluate loaded model on test data\n",
    "loaded_model.compile(loss='mse',\n",
    "                     optimizer=adam,\n",
    "                     metrics=[rmse])\n",
    "\n",
    "# Predict Outputs\n",
    "prediction = loaded_model.predict(x_test)"
   ]
  },
  {
   "cell_type": "code",
   "execution_count": 15,
   "id": "49cc8b6c",
   "metadata": {},
   "outputs": [
    {
     "data": {
      "text/plain": [
       "48.14887823197202"
      ]
     },
     "execution_count": 15,
     "metadata": {},
     "output_type": "execute_result"
    }
   ],
   "source": [
    "mean_squared_error(y_test,prediction)"
   ]
  },
  {
   "cell_type": "code",
   "execution_count": 16,
   "id": "1c8626a2",
   "metadata": {},
   "outputs": [],
   "source": [
    "# Post Processing\n",
    "firsts = firsts()\n",
    "first_lat = firsts[0]\n",
    "first_long = firsts[1]\n",
    "unique_count = firsts[2]\n",
    "\n",
    "# Adding lats and longs back to give actual predictions\n",
    "k = 0\n",
    "last_count = 0\n",
    "for i in range(len(y_test)):\n",
    "    prediction[i, 0] = prediction[i, 0] + first_lat[k]\n",
    "    prediction[i, 1] = prediction[i, 1] + first_long[k]\n",
    "    y_test[i, 0] = y_test[i, 0] + first_lat[k]\n",
    "    y_test[i, 1] = y_test[i, 1] + first_long[k]\n",
    "    if (last_count - i) == unique_count[k]:\n",
    "        last_count = i\n",
    "        k += 1"
   ]
  },
  {
   "cell_type": "code",
   "execution_count": 17,
   "id": "4b04a4aa",
   "metadata": {},
   "outputs": [],
   "source": [
    "# Determining average distance between prediction and y_test\n",
    "df_lls = pd.DataFrame({'lat1': prediction[:, 0], 'lon1': prediction[:, 1], 'lat2': y_test[:, 0], 'lon2': y_test[:, 1]})\n",
    "\n",
    "dist = np.empty(len(df_lls['lat1']))\n",
    "\n",
    "for i in range(dist.size):\n",
    "    dist[i] = distance(df_lls['lat1'][i],\n",
    "                          df_lls['lon1'][i],\n",
    "                          df_lls['lat2'][i],\n",
    "                          df_lls['lon2'][i])\n",
    "\n",
    "# Find the average distance in meters\n",
    "#  avg_dist = np.mean(dist) Maybe work\n",
    "nine_sort = np.sort(dist)\n",
    "avg_dist = nine_sort[int(0.9*len(dist))]  # currently the bottom 90% distances of sorted distances"
   ]
  },
  {
   "cell_type": "code",
   "execution_count": 18,
   "id": "085a04a7",
   "metadata": {},
   "outputs": [
    {
     "data": {
      "text/plain": [
       "(1930570, 2)"
      ]
     },
     "execution_count": 18,
     "metadata": {},
     "output_type": "execute_result"
    }
   ],
   "source": [
    "y_test.shape"
   ]
  },
  {
   "cell_type": "code",
   "execution_count": 19,
   "id": "cd89a986",
   "metadata": {},
   "outputs": [],
   "source": [
    "np.savez(save_path_predict, prediction=prediction, y_test=y_test)"
   ]
  },
  {
   "cell_type": "code",
   "execution_count": 20,
   "id": "06459db0",
   "metadata": {},
   "outputs": [
    {
     "name": "stdout",
     "output_type": "stream",
     "text": [
      "----------------------------------------------------\n",
      "Average Distance (m):  6777.834379182011  m\n",
      "Average Distance (km):  6.777834379182011  km\n",
      "Average Distance (NM):  3.6597594513831186 NM\n",
      "----------------------------------------------------\n",
      "End of danish_predict.py\n",
      "----------------------------------------------------\n"
     ]
    }
   ],
   "source": [
    "print('----------------------------------------------------')\n",
    "print('Average Distance (m): ', avg_dist, ' m')\n",
    "print('Average Distance (km): ', avg_dist / 1000, ' km')\n",
    "print('Average Distance (NM): ', avg_dist * 0.00053996, 'NM')\n",
    "print('----------------------------------------------------')\n",
    "print('End of danish_predict.py')\n",
    "print('----------------------------------------------------')"
   ]
  },
  {
   "cell_type": "code",
   "execution_count": 21,
   "id": "f5c84dbc",
   "metadata": {},
   "outputs": [],
   "source": [
    "# graph AOU\n",
    "\n",
    "location_index = 50\n",
    "\n",
    "center = [prediction[location_index, 0], prediction[location_index, 1]]\n"
   ]
  },
  {
   "cell_type": "code",
   "execution_count": 34,
   "id": "a6c8b24b",
   "metadata": {},
   "outputs": [],
   "source": [
    "m = folium.Map(\n",
    "        location=center,\n",
    "        zoom_start=6,\n",
    "        tiles='http://webrd02.is.autonavi.com/appmaptile?lang=zh_cn&size=1&scale=1&style=7&x={x}&y={y}&z={z}', # 高德街道图\n",
    "#         tiles='http://webst02.is.autonavi.com/appmaptile?style=6&x={x}&y={y}&z={z}', # 高德卫星图\n",
    "        attr='default')"
   ]
  },
  {
   "cell_type": "code",
   "execution_count": 35,
   "id": "f7cb7f56",
   "metadata": {
    "scrolled": true
   },
   "outputs": [
    {
     "data": {
      "text/plain": [
       "(1930570, 2)"
      ]
     },
     "execution_count": 35,
     "metadata": {},
     "output_type": "execute_result"
    }
   ],
   "source": [
    "prediction.shape"
   ]
  },
  {
   "cell_type": "code",
   "execution_count": 36,
   "id": "4c3a9f66",
   "metadata": {},
   "outputs": [],
   "source": [
    "size, index = prediction.shape\n",
    "for i in range(70000):\n",
    "    folium.Circle(\n",
    "        radius=2,\n",
    "        location=[y_test[i, 0], y_test[i, 1]],\n",
    "        popup='Real Location',\n",
    "        color='crimson',\n",
    "        fill=True,\n",
    "        fill_color='#ffcccb'\n",
    "    ).add_to(m)\n",
    "\n",
    "    # AOU\n",
    "    folium.Circle(\n",
    "        location=[prediction[i, 0], prediction[i, 1]],\n",
    "        radius=2,  # might want to take largest distance!\n",
    "        popup='AOU Radius: ' + str(avg_dist) + ' meters',\n",
    "        color='#3186cc',\n",
    "        fill=True,\n",
    "        fill_color='#3186cc'\n",
    "    ).add_to(m)\n",
    "\n",
    "m.save(\"predict_aohai2.html\")"
   ]
  }
 ],
 "metadata": {
  "kernelspec": {
   "display_name": "Python 3 (ipykernel)",
   "language": "python",
   "name": "python3"
  },
  "language_info": {
   "codemirror_mode": {
    "name": "ipython",
    "version": 3
   },
   "file_extension": ".py",
   "mimetype": "text/x-python",
   "name": "python",
   "nbconvert_exporter": "python",
   "pygments_lexer": "ipython3",
   "version": "3.7.13"
  }
 },
 "nbformat": 4,
 "nbformat_minor": 5
}
